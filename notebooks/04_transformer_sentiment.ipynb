{
 "cells": [
  {
   "cell_type": "markdown",
   "id": "e04a22cd",
   "metadata": {},
   "source": [
    "# run to google.colab"
   ]
  },
  {
   "cell_type": "markdown",
   "id": "1cf2c9e8",
   "metadata": {},
   "source": [
    "## Model BERT"
   ]
  },
  {
   "cell_type": "code",
   "execution_count": null,
   "id": "c59a5e54",
   "metadata": {},
   "outputs": [],
   "source": [
    "import pandas as pd\n",
    "from transformers import BertTokenizer, BertForSequenceClassification\n",
    "from sklearn.preprocessing import LabelEncoder\n",
    "import torch\n",
    "\n",
    "\n",
    "from google.colab import files\n",
    "uploaded = files.upload()\n",
    "\n",
    "df = pd.read_csv(\"/content/sentimentdataset.csv\")\n",
    "\n",
    "# lable \n",
    "df['Sentiment'] = df['Sentiment'].astype(str).str.strip().str.lower()\n",
    "label_encoder = LabelEncoder()\n",
    "df['label'] = label_encoder.fit_transform(df['Sentiment'])\n",
    "\n",
    "#  mode and tokenizer\n",
    "tokenizer = BertTokenizer.from_pretrained(\"bert-base-uncased\")\n",
    "model = BertForSequenceClassification.from_pretrained(\"bert-base-uncased\", num_labels=3)\n",
    "model.eval()\n",
    "\n",
    "# tokenizer\n",
    "texts = df[\"Text\"].tolist()\n",
    "inputs = tokenizer(texts, padding=True, truncation=True, return_tensors=\"pt\")\n",
    "\n",
    "\n",
    "with torch.no_grad():\n",
    "    outputs = model(**inputs)\n",
    "    preds = torch.argmax(outputs.logits, dim=1)\n",
    "\n",
    "df[\"PredictedSentiment\"] = label_encoder.inverse_transform(preds.numpy())\n",
    "\n",
    "\n",
    "df.to_csv(\"sentiment_predictions.csv\", index=False)\n",
    "files.download(\"sentiment_predictions.csv\")\n"
   ]
  },
  {
   "cell_type": "code",
   "execution_count": null,
   "id": "552cced4",
   "metadata": {},
   "outputs": [
    {
     "name": "stdout",
     "output_type": "stream",
     "text": [
      "<class 'pandas.core.frame.DataFrame'>\n",
      "RangeIndex: 732 entries, 0 to 731\n",
      "Data columns (total 17 columns):\n",
      " #   Column              Non-Null Count  Dtype  \n",
      "---  ------              --------------  -----  \n",
      " 0   Unnamed: 0.1        732 non-null    int64  \n",
      " 1   Unnamed: 0          732 non-null    int64  \n",
      " 2   Text                732 non-null    object \n",
      " 3   Sentiment           732 non-null    object \n",
      " 4   Timestamp           732 non-null    object \n",
      " 5   User                732 non-null    object \n",
      " 6   Platform            732 non-null    object \n",
      " 7   Hashtags            732 non-null    object \n",
      " 8   Retweets            732 non-null    float64\n",
      " 9   Likes               732 non-null    float64\n",
      " 10  Country             732 non-null    object \n",
      " 11  Year                732 non-null    int64  \n",
      " 12  Month               732 non-null    int64  \n",
      " 13  Day                 732 non-null    int64  \n",
      " 14  Hour                732 non-null    int64  \n",
      " 15  label               732 non-null    int64  \n",
      " 16  PredictedSentiment  732 non-null    object \n",
      "dtypes: float64(2), int64(7), object(8)\n",
      "memory usage: 97.3+ KB\n"
     ]
    },
    {
     "name": "stderr",
     "output_type": "stream",
     "text": [
      "<>:4: SyntaxWarning: invalid escape sequence '\\d'\n",
      "<>:4: SyntaxWarning: invalid escape sequence '\\d'\n",
      "C:\\Users\\kingGester\\AppData\\Local\\Temp\\ipykernel_12868\\3350850772.py:4: SyntaxWarning: invalid escape sequence '\\d'\n",
      "  df = pd.read_csv(\"..\\data\\sentiment_predictions.csv\")\n"
     ]
    },
    {
     "data": {
      "text/plain": [
       "(None,\n",
       "    Unnamed: 0.1  Unnamed: 0  \\\n",
       " 0             0           0   \n",
       " 1             1           1   \n",
       " 2             2           2   \n",
       " 3             3           3   \n",
       " 4             4           4   \n",
       " \n",
       "                                                 Text Sentiment  \\\n",
       " 0   Enjoying a beautiful day at the park!        ...  positive   \n",
       " 1   Traffic was terrible this morning.           ...  negative   \n",
       " 2   Just finished an amazing workout! 💪          ...  positive   \n",
       " 3   Excited about the upcoming weekend getaway!  ...  positive   \n",
       " 4   Trying out a new recipe for dinner tonight.  ...   neutral   \n",
       " \n",
       "              Timestamp            User     Platform  \\\n",
       " 0  2023-01-15 12:30:00   User123          Twitter     \n",
       " 1  2023-01-15 08:45:00   CommuterX        Twitter     \n",
       " 2  2023-01-15 15:45:00   FitnessFan      Instagram    \n",
       " 3  2023-01-15 18:20:00   AdventureX       Facebook    \n",
       " 4  2023-01-15 19:55:00   ChefCook        Instagram    \n",
       " \n",
       "                                      Hashtags  Retweets  Likes       Country  \\\n",
       " 0   #Nature #Park                                  15.0   30.0     USA         \n",
       " 1   #Traffic #Morning                               5.0   10.0     Canada      \n",
       " 2   #Fitness #Workout                              20.0   40.0   USA           \n",
       " 3   #Travel #Adventure                              8.0   15.0     UK          \n",
       " 4   #Cooking #Food                                 12.0   25.0    Australia    \n",
       " \n",
       "    Year  Month  Day  Hour  label PredictedSentiment  \n",
       " 0  2023      1   15    12    146     accomplishment  \n",
       " 1  2023      1   15     8    134     accomplishment  \n",
       " 2  2023      1   15    15    146     accomplishment  \n",
       " 3  2023      1   15    18    146     accomplishment  \n",
       " 4  2023      1   15    19    135     accomplishment  )"
      ]
     },
     "execution_count": 3,
     "metadata": {},
     "output_type": "execute_result"
    }
   ],
   "source": [
    "import pandas as pd\n",
    "\n",
    "# Load the predictions file\n",
    "df = pd.read_csv(\"..\\data\\sentiment_predictions.csv\")\n",
    "\n",
    "\n",
    "df.info(), df.head()"
   ]
  },
  {
   "cell_type": "code",
   "execution_count": 4,
   "id": "e8a85648",
   "metadata": {},
   "outputs": [
    {
     "name": "stderr",
     "output_type": "stream",
     "text": [
      "C:\\Users\\kingGester\\AppData\\Local\\Temp\\ipykernel_12868\\1117749768.py:9: FutureWarning: \n",
      "\n",
      "Passing `palette` without assigning `hue` is deprecated and will be removed in v0.14.0. Assign the `x` variable to `hue` and set `legend=False` for the same effect.\n",
      "\n",
      "  sns.countplot(data=df, x=\"PredictedSentiment\", palette=\"Set2\", order=df[\"PredictedSentiment\"].value_counts().index)\n"
     ]
    },
    {
     "data": {
      "image/png": "[encoded data removed]",
      "text/plain": [
       "<Figure size 800x600 with 1 Axes>"
      ]
     },
     "metadata": {},
     "output_type": "display_data"
    }
   ],
   "source": [
    "import matplotlib.pyplot as plt\n",
    "import seaborn as sns\n",
    "\n",
    "# Set style\n",
    "sns.set(style=\"whitegrid\")\n",
    "\n",
    "# Count plot for predicted sentiment distribution\n",
    "plt.figure(figsize=(8, 6))\n",
    "sns.countplot(data=df, x=\"PredictedSentiment\", palette=\"Set2\", order=df[\"PredictedSentiment\"].value_counts().index)\n",
    "plt.title(\"Distribution of Predicted Sentiments by BERT\")\n",
    "plt.xlabel(\"Predicted Sentiment\")\n",
    "plt.ylabel(\"Count\")\n",
    "plt.xticks(rotation=45)\n",
    "plt.tight_layout()\n",
    "plt.show()\n"
   ]
  }
 ],
 "metadata": {
  "kernelspec": {
   "display_name": "Python 3",
   "language": "python",
   "name": "python3"
  },
  "language_info": {
   "codemirror_mode": {
    "name": "ipython",
    "version": 3
   },
   "file_extension": ".py",
   "mimetype": "text/x-python",
   "name": "python",
   "nbconvert_exporter": "python",
   "pygments_lexer": "ipython3",
   "version": "3.13.5"
  }
 },
 "nbformat": 4,
 "nbformat_minor": 5
}
